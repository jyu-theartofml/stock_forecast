{
 "cells": [
  {
   "cell_type": "markdown",
   "metadata": {
    "collapsed": true
   },
   "source": [
    "# Using LSTM RNN to predict stock price "
   ]
  },
  {
   "cell_type": "code",
   "execution_count": 1,
   "metadata": {
    "collapsed": true
   },
   "outputs": [],
   "source": [
    "import numpy as np\n",
    "import pandas as pd"
   ]
  },
  {
   "cell_type": "code",
   "execution_count": 2,
   "metadata": {
    "collapsed": false
   },
   "outputs": [
    {
     "name": "stderr",
     "output_type": "stream",
     "text": [
      "Using Theano backend.\n",
      "Using gpu device 0: GRID K520 (CNMeM is enabled)\n"
     ]
    }
   ],
   "source": [
    "from keras.layers import Dense, Input, LSTM, Embedding, Dropout, Activation,GlobalAveragePooling1D,\n",
    "from keras.models import Model, Sequential\n",
    "from keras.layers import merge\n",
    "from keras.layers.normalization import BatchNormalization\n",
    "from keras.callbacks import EarlyStopping\n",
    "from keras.optimizers import Adam, RMSprop\n",
    "from keras import backend as K"
   ]
  },
  {
   "cell_type": "markdown",
   "metadata": {
    "collapsed": true
   },
   "source": [
    "# import stock data using pandas data reader"
   ]
  },
  {
   "cell_type": "code",
   "execution_count": 3,
   "metadata": {
    "collapsed": false
   },
   "outputs": [],
   "source": [
    "import pandas_datareader.data as web\n",
    "from datetime import datetime"
   ]
  },
  {
   "cell_type": "code",
   "execution_count": 4,
   "metadata": {
    "collapsed": false
   },
   "outputs": [
    {
     "data": {
      "text/html": [
       "<div>\n",
       "<table border=\"1\" class=\"dataframe\">\n",
       "  <thead>\n",
       "    <tr style=\"text-align: right;\">\n",
       "      <th></th>\n",
       "      <th>0</th>\n",
       "    </tr>\n",
       "  </thead>\n",
       "  <tbody>\n",
       "    <tr>\n",
       "      <th>0</th>\n",
       "      <td>76.69</td>\n",
       "    </tr>\n",
       "    <tr>\n",
       "      <th>1</th>\n",
       "      <td>78.63</td>\n",
       "    </tr>\n",
       "    <tr>\n",
       "      <th>2</th>\n",
       "      <td>77.33</td>\n",
       "    </tr>\n",
       "    <tr>\n",
       "      <th>3</th>\n",
       "      <td>72.72</td>\n",
       "    </tr>\n",
       "    <tr>\n",
       "      <th>4</th>\n",
       "      <td>70.80</td>\n",
       "    </tr>\n",
       "  </tbody>\n",
       "</table>\n",
       "</div>"
      ],
      "text/plain": [
       "       0\n",
       "0  76.69\n",
       "1  78.63\n",
       "2  77.33\n",
       "3  72.72\n",
       "4  70.80"
      ]
     },
     "execution_count": 4,
     "metadata": {},
     "output_type": "execute_result"
    }
   ],
   "source": [
    "# look up ticker BABA from google finance\n",
    "baba = web.DataReader('BABA', 'google', start=datetime(2016, 1, 1), end=datetime(2016, 6, 1))\n",
    "training_set=pd.DataFrame(baba['Close'].values)\n",
    "training_set.shape\n",
    "training_set.head()"
   ]
  },
  {
   "cell_type": "code",
   "execution_count": 5,
   "metadata": {
    "collapsed": false
   },
   "outputs": [
    {
     "data": {
      "text/plain": [
       "(82, 1)"
      ]
     },
     "execution_count": 5,
     "metadata": {},
     "output_type": "execute_result"
    }
   ],
   "source": [
    "baba = web.DataReader('BABA', 'google', datetime(2017, 1, 1), datetime(2017, 5, 1))\n",
    "validate_set=pd.DataFrame(baba['Close'].values)\n",
    "validate_set.shape"
   ]
  },
  {
   "cell_type": "code",
   "execution_count": 7,
   "metadata": {
    "collapsed": false
   },
   "outputs": [],
   "source": [
    "#Normalize the raw data\n",
    "from sklearn.preprocessing import MinMaxScaler\n",
    "sc=MinMaxScaler()\n",
    "training_scaled=sc.fit_transform(training_set)\n",
    "validate_scaled=sc.fit_transform(validate_set)"
   ]
  },
  {
   "cell_type": "code",
   "execution_count": 56,
   "metadata": {
    "collapsed": true
   },
   "outputs": [],
   "source": [
    "date_range=3"
   ]
  },
  {
   "cell_type": "code",
   "execution_count": 57,
   "metadata": {
    "collapsed": false
   },
   "outputs": [],
   "source": [
    "#create function to loop through data, where each training data point usese the prior X day data for learning.\n",
    "\n",
    "def data_process(scaled_data):\n",
    "    X=[]\n",
    "    Y=[]\n",
    "    num_data=len(scaled_data)\n",
    "    for i in range(date_range, num_data):\n",
    "        X.append(scaled_data[i-date_range:i, 0])\n",
    "        Y.append(scaled_data[i, 0])\n",
    "    \n",
    "    return  np.array(X), np.array(Y)"
   ]
  },
  {
   "cell_type": "code",
   "execution_count": 58,
   "metadata": {
    "collapsed": false
   },
   "outputs": [
    {
     "data": {
      "text/plain": [
       "(101, 3, 1)"
      ]
     },
     "execution_count": 58,
     "metadata": {},
     "output_type": "execute_result"
    }
   ],
   "source": [
    "X_train, target=data_process(training_scaled)\n",
    "X_train_input=np.reshape(X_train, (X_train.shape[0], X_train.shape[1], 1) )\n",
    "X_train_input.shape"
   ]
  },
  {
   "cell_type": "code",
   "execution_count": 59,
   "metadata": {
    "collapsed": false
   },
   "outputs": [
    {
     "data": {
      "text/plain": [
       "(79, 3, 1)"
      ]
     },
     "execution_count": 59,
     "metadata": {},
     "output_type": "execute_result"
    }
   ],
   "source": [
    "X_val, y_val=data_process(validate_scaled)\n",
    "X_val_input=np.reshape(X_val, (X_val.shape[0], X_val.shape[1], 1) )\n",
    "X_val_input.shape"
   ]
  },
  {
   "cell_type": "markdown",
   "metadata": {
    "collapsed": true
   },
   "source": [
    "# Build the model"
   ]
  },
  {
   "cell_type": "code",
   "execution_count": 63,
   "metadata": {
    "collapsed": false
   },
   "outputs": [],
   "source": [
    "reg_model=Sequential()\n",
    "reg_model.add(LSTM(128, input_shape=(3,1), return_sequences=True)) # each data point consists of 3 days of closing pice data.\n",
    "reg_model.add(LSTM(64, return_sequences=True))\n",
    "reg_model.add(LSTM(16))\n",
    "reg_model.add(Dense(1, activation='linear'))"
   ]
  },
  {
   "cell_type": "code",
   "execution_count": 64,
   "metadata": {
    "collapsed": true
   },
   "outputs": [],
   "source": [
    "reg_model.compile(optimizer='adam', loss='mean_squared_error')"
   ]
  },
  {
   "cell_type": "code",
   "execution_count": 65,
   "metadata": {
    "collapsed": false,
    "scrolled": true
   },
   "outputs": [
    {
     "name": "stdout",
     "output_type": "stream",
     "text": [
      "Train on 101 samples, validate on 79 samples\n",
      "Epoch 1/100\n",
      "101/101 [==============================] - 0s - loss: 0.4130 - val_loss: 0.2702\n",
      "Epoch 2/100\n",
      "101/101 [==============================] - 0s - loss: 0.2993 - val_loss: 0.1770\n",
      "Epoch 3/100\n",
      "101/101 [==============================] - 0s - loss: 0.1876 - val_loss: 0.0842\n",
      "Epoch 4/100\n",
      "101/101 [==============================] - 0s - loss: 0.0828 - val_loss: 0.0158\n",
      "Epoch 5/100\n",
      "101/101 [==============================] - 0s - loss: 0.0183 - val_loss: 0.0154\n",
      "Epoch 6/100\n",
      "101/101 [==============================] - 0s - loss: 0.0346 - val_loss: 0.0353\n",
      "Epoch 7/100\n",
      "101/101 [==============================] - 0s - loss: 0.0412 - val_loss: 0.0152\n",
      "Epoch 8/100\n",
      "101/101 [==============================] - 0s - loss: 0.0196 - val_loss: 0.0062\n",
      "Epoch 9/100\n",
      "101/101 [==============================] - 0s - loss: 0.0155 - val_loss: 0.0100\n",
      "Epoch 10/100\n",
      "101/101 [==============================] - 0s - loss: 0.0209 - val_loss: 0.0125\n",
      "Epoch 11/100\n",
      "101/101 [==============================] - 0s - loss: 0.0219 - val_loss: 0.0092\n",
      "Epoch 12/100\n",
      "101/101 [==============================] - 0s - loss: 0.0164 - val_loss: 0.0058\n",
      "Epoch 13/100\n",
      "101/101 [==============================] - 0s - loss: 0.0137 - val_loss: 0.0067\n",
      "Epoch 14/100\n",
      "101/101 [==============================] - 0s - loss: 0.0150 - val_loss: 0.0072\n",
      "Epoch 15/100\n",
      "101/101 [==============================] - 0s - loss: 0.0144 - val_loss: 0.0054\n",
      "Epoch 16/100\n",
      "101/101 [==============================] - 0s - loss: 0.0126 - val_loss: 0.0047\n",
      "Epoch 17/100\n",
      "101/101 [==============================] - 0s - loss: 0.0121 - val_loss: 0.0049\n",
      "Epoch 18/100\n",
      "101/101 [==============================] - 0s - loss: 0.0120 - val_loss: 0.0045\n",
      "Epoch 19/100\n",
      "101/101 [==============================] - 0s - loss: 0.0115 - val_loss: 0.0040\n",
      "Epoch 20/100\n",
      "101/101 [==============================] - 0s - loss: 0.0109 - val_loss: 0.0038\n",
      "Epoch 21/100\n",
      "101/101 [==============================] - 0s - loss: 0.0107 - val_loss: 0.0036\n",
      "Epoch 22/100\n",
      "101/101 [==============================] - 0s - loss: 0.0106 - val_loss: 0.0035\n",
      "Epoch 23/100\n",
      "101/101 [==============================] - 0s - loss: 0.0104 - val_loss: 0.0034\n",
      "Epoch 24/100\n",
      "101/101 [==============================] - 0s - loss: 0.0099 - val_loss: 0.0036\n",
      "Epoch 25/100\n",
      "101/101 [==============================] - 0s - loss: 0.0098 - val_loss: 0.0039\n",
      "Epoch 26/100\n",
      "101/101 [==============================] - 0s - loss: 0.0099 - val_loss: 0.0037\n",
      "Epoch 27/100\n",
      "101/101 [==============================] - 0s - loss: 0.0097 - val_loss: 0.0038\n",
      "Epoch 28/100\n",
      "101/101 [==============================] - 0s - loss: 0.0097 - val_loss: 0.0036\n",
      "Epoch 29/100\n",
      "101/101 [==============================] - 0s - loss: 0.0095 - val_loss: 0.0032\n",
      "Epoch 30/100\n",
      "101/101 [==============================] - 0s - loss: 0.0097 - val_loss: 0.0031\n",
      "Epoch 31/100\n",
      "101/101 [==============================] - 0s - loss: 0.0096 - val_loss: 0.0033\n",
      "Epoch 32/100\n",
      "101/101 [==============================] - 0s - loss: 0.0095 - val_loss: 0.0034\n",
      "Epoch 33/100\n",
      "101/101 [==============================] - 0s - loss: 0.0095 - val_loss: 0.0036\n",
      "Epoch 34/100\n",
      "101/101 [==============================] - 0s - loss: 0.0095 - val_loss: 0.0037\n",
      "Epoch 35/100\n",
      "101/101 [==============================] - 0s - loss: 0.0095 - val_loss: 0.0034\n",
      "Epoch 36/100\n",
      "101/101 [==============================] - 0s - loss: 0.0095 - val_loss: 0.0032\n",
      "Epoch 37/100\n",
      "101/101 [==============================] - 0s - loss: 0.0096 - val_loss: 0.0035\n",
      "Epoch 38/100\n",
      "101/101 [==============================] - 0s - loss: 0.0095 - val_loss: 0.0037\n",
      "Epoch 39/100\n",
      "101/101 [==============================] - 0s - loss: 0.0095 - val_loss: 0.0035\n",
      "Epoch 40/100\n",
      "101/101 [==============================] - 0s - loss: 0.0094 - val_loss: 0.0039\n",
      "Epoch 41/100\n",
      "101/101 [==============================] - 0s - loss: 0.0095 - val_loss: 0.0049\n",
      "Epoch 42/100\n",
      "101/101 [==============================] - 0s - loss: 0.0100 - val_loss: 0.0045\n",
      "Epoch 43/100\n",
      "101/101 [==============================] - 0s - loss: 0.0096 - val_loss: 0.0034\n",
      "Epoch 44/100\n",
      "101/101 [==============================] - 0s - loss: 0.0094 - val_loss: 0.0037\n",
      "Epoch 45/100\n",
      "101/101 [==============================] - 0s - loss: 0.0095 - val_loss: 0.0037\n",
      "Epoch 46/100\n",
      "101/101 [==============================] - 0s - loss: 0.0094 - val_loss: 0.0032\n",
      "Epoch 47/100\n",
      "101/101 [==============================] - 0s - loss: 0.0100 - val_loss: 0.0031\n",
      "Epoch 48/100\n",
      "101/101 [==============================] - 0s - loss: 0.0102 - val_loss: 0.0031\n",
      "Epoch 49/100\n",
      "101/101 [==============================] - 0s - loss: 0.0095 - val_loss: 0.0036\n",
      "Epoch 50/100\n",
      "101/101 [==============================] - 0s - loss: 0.0096 - val_loss: 0.0043\n",
      "Epoch 51/100\n",
      "101/101 [==============================] - 0s - loss: 0.0098 - val_loss: 0.0041\n",
      "Epoch 52/100\n",
      "101/101 [==============================] - 0s - loss: 0.0094 - val_loss: 0.0031\n",
      "Epoch 53/100\n",
      "101/101 [==============================] - 0s - loss: 0.0096 - val_loss: 0.0030\n",
      "Epoch 54/100\n",
      "101/101 [==============================] - 0s - loss: 0.0102 - val_loss: 0.0031\n",
      "Epoch 55/100\n",
      "101/101 [==============================] - 0s - loss: 0.0093 - val_loss: 0.0044\n",
      "Epoch 56/100\n",
      "101/101 [==============================] - 0s - loss: 0.0101 - val_loss: 0.0054\n",
      "Epoch 57/100\n",
      "101/101 [==============================] - 0s - loss: 0.0099 - val_loss: 0.0036\n",
      "Epoch 58/100\n",
      "101/101 [==============================] - 0s - loss: 0.0095 - val_loss: 0.0031\n",
      "Epoch 59/100\n",
      "101/101 [==============================] - 0s - loss: 0.0093 - val_loss: 0.0042\n",
      "Epoch 60/100\n",
      "101/101 [==============================] - 0s - loss: 0.0104 - val_loss: 0.0056\n",
      "Epoch 61/100\n",
      "101/101 [==============================] - 0s - loss: 0.0097 - val_loss: 0.0030\n",
      "Epoch 62/100\n",
      "101/101 [==============================] - 0s - loss: 0.0100 - val_loss: 0.0034\n",
      "Epoch 63/100\n",
      "101/101 [==============================] - 0s - loss: 0.0109 - val_loss: 0.0031\n",
      "Epoch 64/100\n",
      "101/101 [==============================] - 0s - loss: 0.0090 - val_loss: 0.0050\n",
      "Epoch 65/100\n",
      "101/101 [==============================] - 0s - loss: 0.0107 - val_loss: 0.0057\n",
      "Epoch 66/100\n",
      "101/101 [==============================] - 0s - loss: 0.0103 - val_loss: 0.0033\n",
      "Epoch 67/100\n",
      "101/101 [==============================] - 0s - loss: 0.0095 - val_loss: 0.0031\n",
      "Epoch 68/100\n",
      "101/101 [==============================] - 0s - loss: 0.0095 - val_loss: 0.0032\n",
      "Epoch 69/100\n",
      "101/101 [==============================] - 0s - loss: 0.0094 - val_loss: 0.0033\n",
      "Epoch 70/100\n",
      "101/101 [==============================] - 0s - loss: 0.0094 - val_loss: 0.0033\n",
      "Epoch 71/100\n",
      "101/101 [==============================] - 0s - loss: 0.0094 - val_loss: 0.0033\n",
      "Epoch 72/100\n",
      "101/101 [==============================] - 0s - loss: 0.0093 - val_loss: 0.0034\n",
      "Epoch 73/100\n",
      "101/101 [==============================] - 0s - loss: 0.0095 - val_loss: 0.0038\n",
      "Epoch 74/100\n",
      "101/101 [==============================] - 0s - loss: 0.0093 - val_loss: 0.0031\n",
      "Epoch 75/100\n",
      "101/101 [==============================] - 0s - loss: 0.0095 - val_loss: 0.0030\n",
      "Epoch 76/100\n",
      "101/101 [==============================] - 0s - loss: 0.0096 - val_loss: 0.0036\n",
      "Epoch 77/100\n",
      "101/101 [==============================] - 0s - loss: 0.0095 - val_loss: 0.0049\n",
      "Epoch 78/100\n",
      "101/101 [==============================] - 0s - loss: 0.0098 - val_loss: 0.0037\n",
      "Epoch 79/100\n",
      "101/101 [==============================] - 0s - loss: 0.0094 - val_loss: 0.0030\n",
      "Epoch 80/100\n",
      "101/101 [==============================] - 0s - loss: 0.0098 - val_loss: 0.0032\n",
      "Epoch 81/100\n",
      "101/101 [==============================] - 0s - loss: 0.0095 - val_loss: 0.0042\n",
      "Epoch 82/100\n",
      "101/101 [==============================] - 0s - loss: 0.0094 - val_loss: 0.0036\n",
      "Epoch 83/100\n",
      "101/101 [==============================] - 0s - loss: 0.0094 - val_loss: 0.0030\n",
      "Epoch 84/100\n",
      "101/101 [==============================] - 0s - loss: 0.0095 - val_loss: 0.0032\n",
      "Epoch 85/100\n",
      "101/101 [==============================] - 0s - loss: 0.0092 - val_loss: 0.0036\n",
      "Epoch 86/100\n",
      "101/101 [==============================] - 0s - loss: 0.0093 - val_loss: 0.0033\n",
      "Epoch 87/100\n",
      "101/101 [==============================] - 0s - loss: 0.0095 - val_loss: 0.0039\n",
      "Epoch 88/100\n",
      "101/101 [==============================] - 0s - loss: 0.0091 - val_loss: 0.0030\n",
      "Epoch 89/100\n",
      "101/101 [==============================] - 0s - loss: 0.0097 - val_loss: 0.0030\n",
      "Epoch 90/100\n",
      "101/101 [==============================] - 0s - loss: 0.0094 - val_loss: 0.0037\n",
      "Epoch 91/100\n",
      "101/101 [==============================] - 0s - loss: 0.0096 - val_loss: 0.0044\n",
      "Epoch 92/100\n",
      "101/101 [==============================] - 0s - loss: 0.0092 - val_loss: 0.0030\n",
      "Epoch 93/100\n",
      "101/101 [==============================] - 0s - loss: 0.0106 - val_loss: 0.0030\n",
      "Epoch 94/100\n",
      "101/101 [==============================] - 0s - loss: 0.0095 - val_loss: 0.0045\n",
      "Epoch 95/100\n",
      "101/101 [==============================] - 0s - loss: 0.0096 - val_loss: 0.0041\n",
      "Epoch 96/100\n",
      "101/101 [==============================] - 0s - loss: 0.0091 - val_loss: 0.0032\n",
      "Epoch 97/100\n",
      "101/101 [==============================] - 0s - loss: 0.0095 - val_loss: 0.0030\n",
      "Epoch 98/100\n",
      "101/101 [==============================] - 0s - loss: 0.0093 - val_loss: 0.0041\n",
      "Epoch 99/100\n",
      "101/101 [==============================] - 0s - loss: 0.0093 - val_loss: 0.0037\n",
      "Epoch 100/100\n",
      "101/101 [==============================] - 0s - loss: 0.0090 - val_loss: 0.0030\n"
     ]
    },
    {
     "data": {
      "text/plain": [
       "<keras.callbacks.History at 0x7f77d8ae4450>"
      ]
     },
     "execution_count": 65,
     "metadata": {},
     "output_type": "execute_result"
    }
   ],
   "source": [
    "reg_model.fit(X_train_input, target, validation_data=(X_val_input, y_val), batch_size=32, nb_epoch=100, verbose=1)"
   ]
  },
  {
   "cell_type": "markdown",
   "metadata": {
    "collapsed": true
   },
   "source": [
    "# plot validation data vs. predicted data"
   ]
  },
  {
   "cell_type": "code",
   "execution_count": 66,
   "metadata": {
    "collapsed": false
   },
   "outputs": [
    {
     "name": "stderr",
     "output_type": "stream",
     "text": [
      "/home/ubuntu/anaconda2/lib/python2.7/site-packages/sklearn/preprocessing/data.py:377: DeprecationWarning: Passing 1d arrays as data is deprecated in 0.17 and will raise ValueError in 0.19. Reshape your data either using X.reshape(-1, 1) if your data has a single feature or X.reshape(1, -1) if it contains a single sample.\n",
      "  warnings.warn(DEPRECATION_MSG_1D, DeprecationWarning)\n"
     ]
    }
   ],
   "source": [
    "prediction_scaled=reg_model.predict(X_val_input)\n",
    "prediction=sc.inverse_transform(prediction_scaled)\n",
    "y_val_unscaled=sc.inverse_transform(y_val)"
   ]
  },
  {
   "cell_type": "code",
   "execution_count": 67,
   "metadata": {
    "collapsed": true
   },
   "outputs": [],
   "source": [
    "%matplotlib inline\n",
    "import matplotlib.pyplot as plt"
   ]
  },
  {
   "cell_type": "code",
   "execution_count": 68,
   "metadata": {
    "collapsed": false
   },
   "outputs": [
    {
     "data": {
      "text/plain": [
       "<matplotlib.legend.Legend at 0x7f77cf584190>"
      ]
     },
     "execution_count": 68,
     "metadata": {},
     "output_type": "execute_result"
    },
    {
     "data": {
      "image/png": "[encoded data removed]",
      "text/plain": [
       "<matplotlib.figure.Figure at 0x7f77d000a250>"
      ]
     },
     "metadata": {},
     "output_type": "display_data"
    }
   ],
   "source": [
    "plt.plot(y_val_unscaled, color='blue', label='actual stock price')\n",
    "plt.plot(prediction, color='green', label='predicted stock price')\n",
    "\n",
    "plt.title('Prediction of Alibaba stock price')\n",
    "plt.ylabel('Price (Jan-May,2017)')\n",
    "plt.xlabel('Days')\n",
    "plt.legend(['actual price', 'predicted price'], loc='upper left')"
   ]
  },
  {
   "cell_type": "code",
   "execution_count": null,
   "metadata": {
    "collapsed": true
   },
   "outputs": [],
   "source": []
  }
 ],
 "metadata": {
  "anaconda-cloud": {},
  "celltoolbar": "Raw Cell Format",
  "kernelspec": {
   "display_name": "Python [default]",
   "language": "python",
   "name": "python2"
  },
  "language_info": {
   "codemirror_mode": {
    "name": "ipython",
    "version": 2
   },
   "file_extension": ".py",
   "mimetype": "text/x-python",
   "name": "python",
   "nbconvert_exporter": "python",
   "pygments_lexer": "ipython2",
   "version": "2.7.12"
  }
 },
 "nbformat": 4,
 "nbformat_minor": 0
}
